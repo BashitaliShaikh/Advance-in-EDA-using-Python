{
  "nbformat": 4,
  "nbformat_minor": 0,
  "metadata": {
    "kernelspec": {
      "display_name": "Python 3",
      "language": "python",
      "name": "python3"
    },
    "language_info": {
      "codemirror_mode": {
        "name": "ipython",
        "version": 3
      },
      "file_extension": ".py",
      "mimetype": "text/x-python",
      "name": "python",
      "nbconvert_exporter": "python",
      "pygments_lexer": "ipython3",
      "version": "3.7.0"
    },
    "colab": {
      "name": "final assignment3.ipynb",
      "provenance": []
    }
  },
  "cells": [
    {
      "cell_type": "code",
      "metadata": {
        "id": "AtBbcfDhKxPf"
      },
      "source": [
        "\n",
        "import pandas as pd\n",
        "import numpy as np\n",
        "import matplotlib.pyplot as plt\n",
        "import seaborn as sns\n",
        "import glob\n",
        "import os\n"
      ],
      "execution_count": null,
      "outputs": []
    },
    {
      "cell_type": "code",
      "metadata": {
        "id": "KAckLPCqKxPm",
        "outputId": "b577601f-3f26-4cb4-827b-d77c09740560"
      },
      "source": [
        "stu_dent =pd.read_csv('studentlist.csv')\n",
        "print(stu_dent.shape)\n",
        "stu_dent.head(5)"
      ],
      "execution_count": null,
      "outputs": [
        {
          "output_type": "stream",
          "text": [
            "(1017, 4)\n"
          ],
          "name": "stdout"
        },
        {
          "output_type": "execute_result",
          "data": {
            "text/html": [
              "<div>\n",
              "<style scoped>\n",
              "    .dataframe tbody tr th:only-of-type {\n",
              "        vertical-align: middle;\n",
              "    }\n",
              "\n",
              "    .dataframe tbody tr th {\n",
              "        vertical-align: top;\n",
              "    }\n",
              "\n",
              "    .dataframe thead th {\n",
              "        text-align: right;\n",
              "    }\n",
              "</style>\n",
              "<table border=\"1\" class=\"dataframe\">\n",
              "  <thead>\n",
              "    <tr style=\"text-align: right;\">\n",
              "      <th></th>\n",
              "      <th>enrollmentnumber</th>\n",
              "      <th>admn</th>\n",
              "      <th>studentname</th>\n",
              "      <th>studentEmail</th>\n",
              "    </tr>\n",
              "  </thead>\n",
              "  <tbody>\n",
              "    <tr>\n",
              "      <th>0</th>\n",
              "      <td>1613101016</td>\n",
              "      <td>16SCSE101757</td>\n",
              "      <td>AAYUSH  TYAGI</td>\n",
              "      <td>NaN</td>\n",
              "    </tr>\n",
              "    <tr>\n",
              "      <th>1</th>\n",
              "      <td>1613101026</td>\n",
              "      <td>16SCSE101415</td>\n",
              "      <td>ABHISHEK</td>\n",
              "      <td>NaN</td>\n",
              "    </tr>\n",
              "    <tr>\n",
              "      <th>2</th>\n",
              "      <td>1613101051</td>\n",
              "      <td>16SCSE101222</td>\n",
              "      <td>ADITI  SINGH</td>\n",
              "      <td>NaN</td>\n",
              "    </tr>\n",
              "    <tr>\n",
              "      <th>3</th>\n",
              "      <td>1613101054</td>\n",
              "      <td>16SCSE101220</td>\n",
              "      <td>ADITYA  MANKAR</td>\n",
              "      <td>NaN</td>\n",
              "    </tr>\n",
              "    <tr>\n",
              "      <th>4</th>\n",
              "      <td>1613101079</td>\n",
              "      <td>16SCSE101085</td>\n",
              "      <td>AKASH  KANSAL</td>\n",
              "      <td>NaN</td>\n",
              "    </tr>\n",
              "  </tbody>\n",
              "</table>\n",
              "</div>"
            ],
            "text/plain": [
              "   enrollmentnumber          admn     studentname  studentEmail\n",
              "0        1613101016  16SCSE101757   AAYUSH  TYAGI           NaN\n",
              "1        1613101026  16SCSE101415        ABHISHEK           NaN\n",
              "2        1613101051  16SCSE101222    ADITI  SINGH           NaN\n",
              "3        1613101054  16SCSE101220  ADITYA  MANKAR           NaN\n",
              "4        1613101079  16SCSE101085   AKASH  KANSAL           NaN"
            ]
          },
          "metadata": {
            "tags": []
          },
          "execution_count": 3
        }
      ]
    },
    {
      "cell_type": "code",
      "metadata": {
        "id": "SrfWwEkJKxPo"
      },
      "source": [
        "# Ques. 1:- Read the files present in the folders batchwiselist, quiz"
      ],
      "execution_count": null,
      "outputs": []
    },
    {
      "cell_type": "code",
      "metadata": {
        "id": "2QQQmJ2eKxPo",
        "outputId": "e1b8efad-e7d9-4743-c89f-aa36ffeb5a1d"
      },
      "source": [
        "batch = r'C:\\Users\\saddam\\Desktop\\python homework\\assignment3\\Prob1\\batchwiselist'\n",
        "all_files = glob.glob(batch +\"/*.csv\")\n",
        "lst = []\n",
        "for i in all_files:\n",
        "    df = pd.read_csv(i)\n",
        "    lst.append(df)\n",
        "    \n",
        "tot_lst = pd.concat(lst)\n",
        "print(tot_lst.shape)"
      ],
      "execution_count": null,
      "outputs": [
        {
          "output_type": "stream",
          "text": [
            "(1017, 5)\n"
          ],
          "name": "stdout"
        }
      ]
    },
    {
      "cell_type": "code",
      "metadata": {
        "id": "GFzBXsqlKxPo"
      },
      "source": [
        "\n",
        "batch = r'C:\\Users\\saddam\\Desktop\\python homework\\assignment3\\Prob1\\quiz'\n",
        "all_files = glob.glob(batch +\"/*.csv\")\n",
        "\n",
        "quiz = []\n",
        "\n",
        "for i in all_files:\n",
        "    df = pd.read_csv(i)\n",
        "    quiz.append(df)\n",
        "#define each csv\n",
        "quiz1 = quiz[0]\n",
        "quiz2 = quiz[1]\n",
        "#2 file merged\n",
        "bth_quiz = pd.concat(quiz)\n",
        "bth_quiz.head(3)\n",
        "quiz1 = quiz1.drop(columns=['ID number','Institution',\"Department\",'Email address'])\n",
        "quiz2 = quiz2.drop(columns=['ID number','Institution',\"Department\",'Email address'])"
      ],
      "execution_count": null,
      "outputs": []
    },
    {
      "cell_type": "code",
      "metadata": {
        "id": "BOyMg6nDKxPp",
        "outputId": "90187e09-54d4-4e05-a4c9-dab7c5224ac8"
      },
      "source": [
        "print(quiz1.shape)\n",
        "quiz1.head(5)"
      ],
      "execution_count": null,
      "outputs": [
        {
          "output_type": "stream",
          "text": [
            "(660, 7)\n"
          ],
          "name": "stdout"
        },
        {
          "output_type": "execute_result",
          "data": {
            "text/html": [
              "<div>\n",
              "<style scoped>\n",
              "    .dataframe tbody tr th:only-of-type {\n",
              "        vertical-align: middle;\n",
              "    }\n",
              "\n",
              "    .dataframe tbody tr th {\n",
              "        vertical-align: top;\n",
              "    }\n",
              "\n",
              "    .dataframe thead th {\n",
              "        text-align: right;\n",
              "    }\n",
              "</style>\n",
              "<table border=\"1\" class=\"dataframe\">\n",
              "  <thead>\n",
              "    <tr style=\"text-align: right;\">\n",
              "      <th></th>\n",
              "      <th>Surname</th>\n",
              "      <th>Firstname</th>\n",
              "      <th>State</th>\n",
              "      <th>Started on</th>\n",
              "      <th>Completed</th>\n",
              "      <th>Time taken</th>\n",
              "      <th>Grade/10.00</th>\n",
              "    </tr>\n",
              "  </thead>\n",
              "  <tbody>\n",
              "    <tr>\n",
              "      <th>0</th>\n",
              "      <td>16BTCSES11</td>\n",
              "      <td>SIDDHANT  GUPTA</td>\n",
              "      <td>Finished</td>\n",
              "      <td>08-02-2019 09:57</td>\n",
              "      <td>08-02-2019 10:11</td>\n",
              "      <td>14 mins 1 sec</td>\n",
              "      <td>4</td>\n",
              "    </tr>\n",
              "    <tr>\n",
              "      <th>1</th>\n",
              "      <td>16BTCSES11</td>\n",
              "      <td>ARPIT  SHARMA</td>\n",
              "      <td>Finished</td>\n",
              "      <td>08-02-2019 09:57</td>\n",
              "      <td>08-02-2019 10:11</td>\n",
              "      <td>14 mins 5 secs</td>\n",
              "      <td>5</td>\n",
              "    </tr>\n",
              "    <tr>\n",
              "      <th>2</th>\n",
              "      <td>16BTCSES11</td>\n",
              "      <td>VISHAL  SINGH</td>\n",
              "      <td>Finished</td>\n",
              "      <td>08-02-2019 09:57</td>\n",
              "      <td>14-02-2019 10:10</td>\n",
              "      <td>6 days</td>\n",
              "      <td>7</td>\n",
              "    </tr>\n",
              "    <tr>\n",
              "      <th>3</th>\n",
              "      <td>16BTCSES11</td>\n",
              "      <td>AKASH  YADAV</td>\n",
              "      <td>Finished</td>\n",
              "      <td>08-02-2019 09:57</td>\n",
              "      <td>14-02-2019 12:03</td>\n",
              "      <td>6 days 2 hours</td>\n",
              "      <td>9</td>\n",
              "    </tr>\n",
              "    <tr>\n",
              "      <th>4</th>\n",
              "      <td>16BTCSES11</td>\n",
              "      <td>MANISH  SAHANI</td>\n",
              "      <td>Finished</td>\n",
              "      <td>08-02-2019 09:57</td>\n",
              "      <td>08-02-2019 23:09</td>\n",
              "      <td>13 hours 11 mins</td>\n",
              "      <td>7</td>\n",
              "    </tr>\n",
              "  </tbody>\n",
              "</table>\n",
              "</div>"
            ],
            "text/plain": [
              "      Surname        Firstname     State        Started on         Completed  \\\n",
              "0  16BTCSES11  SIDDHANT  GUPTA  Finished  08-02-2019 09:57  08-02-2019 10:11   \n",
              "1  16BTCSES11    ARPIT  SHARMA  Finished  08-02-2019 09:57  08-02-2019 10:11   \n",
              "2  16BTCSES11    VISHAL  SINGH  Finished  08-02-2019 09:57  14-02-2019 10:10   \n",
              "3  16BTCSES11     AKASH  YADAV  Finished  08-02-2019 09:57  14-02-2019 12:03   \n",
              "4  16BTCSES11   MANISH  SAHANI  Finished  08-02-2019 09:57  08-02-2019 23:09   \n",
              "\n",
              "         Time taken Grade/10.00  \n",
              "0     14 mins 1 sec           4  \n",
              "1    14 mins 5 secs           5  \n",
              "2            6 days           7  \n",
              "3    6 days 2 hours           9  \n",
              "4  13 hours 11 mins           7  "
            ]
          },
          "metadata": {
            "tags": []
          },
          "execution_count": 7
        }
      ]
    },
    {
      "cell_type": "code",
      "metadata": {
        "id": "dnoV53_LKxPp",
        "outputId": "a7dbb92f-5c93-4697-d71f-d810f29c9e8d"
      },
      "source": [
        "stat_df= pd.DataFrame (columns = [\"no of present\", \"lessthan50\", \"between50and60\", \n",
        "                                  \"between60and70\", \"between70and80\", \"greaterthan80\"],index=[\"Quiz_1\",\"Quiz_2\"])\n",
        "\n",
        "stat_df"
      ],
      "execution_count": null,
      "outputs": [
        {
          "output_type": "execute_result",
          "data": {
            "text/html": [
              "<div>\n",
              "<style scoped>\n",
              "    .dataframe tbody tr th:only-of-type {\n",
              "        vertical-align: middle;\n",
              "    }\n",
              "\n",
              "    .dataframe tbody tr th {\n",
              "        vertical-align: top;\n",
              "    }\n",
              "\n",
              "    .dataframe thead th {\n",
              "        text-align: right;\n",
              "    }\n",
              "</style>\n",
              "<table border=\"1\" class=\"dataframe\">\n",
              "  <thead>\n",
              "    <tr style=\"text-align: right;\">\n",
              "      <th></th>\n",
              "      <th>no of present</th>\n",
              "      <th>lessthan50</th>\n",
              "      <th>between50and60</th>\n",
              "      <th>between60and70</th>\n",
              "      <th>between70and80</th>\n",
              "      <th>greaterthan80</th>\n",
              "    </tr>\n",
              "  </thead>\n",
              "  <tbody>\n",
              "    <tr>\n",
              "      <th>Quiz_1</th>\n",
              "      <td>NaN</td>\n",
              "      <td>NaN</td>\n",
              "      <td>NaN</td>\n",
              "      <td>NaN</td>\n",
              "      <td>NaN</td>\n",
              "      <td>NaN</td>\n",
              "    </tr>\n",
              "    <tr>\n",
              "      <th>Quiz_2</th>\n",
              "      <td>NaN</td>\n",
              "      <td>NaN</td>\n",
              "      <td>NaN</td>\n",
              "      <td>NaN</td>\n",
              "      <td>NaN</td>\n",
              "      <td>NaN</td>\n",
              "    </tr>\n",
              "  </tbody>\n",
              "</table>\n",
              "</div>"
            ],
            "text/plain": [
              "       no of present lessthan50 between50and60 between60and70 between70and80  \\\n",
              "Quiz_1           NaN        NaN            NaN            NaN            NaN   \n",
              "Quiz_2           NaN        NaN            NaN            NaN            NaN   \n",
              "\n",
              "       greaterthan80  \n",
              "Quiz_1           NaN  \n",
              "Quiz_2           NaN  "
            ]
          },
          "metadata": {
            "tags": []
          },
          "execution_count": 8
        }
      ]
    },
    {
      "cell_type": "code",
      "metadata": {
        "id": "dgirxsuKKxPp"
      },
      "source": [
        "quiz1[\"Firstname\"] = quiz1[\"Firstname\"].dropna()\n",
        "quiz2[\"Firstname\"] = quiz2[\"Firstname\"].dropna()"
      ],
      "execution_count": null,
      "outputs": []
    },
    {
      "cell_type": "code",
      "metadata": {
        "id": "cV2Mz7kTKxPq"
      },
      "source": [
        "#quiz1[\"Grade/10.00\"].unique()\n",
        "#quiz2[\"Grade/10.00\"].unique()\n",
        "quiz1[\"Grade/10.00\"] = quiz1[\"Grade/10.00\"].str.replace(\"-\",\"0\")\n",
        "quiz2[\"Grade/10.00\"] = quiz2[\"Grade/10.00\"].str.replace(\"-\",\"0\")\n",
        "quiz1[\"Grade/10.00\"] = quiz1[\"Grade/10.00\"].apply(pd.to_numeric)\n",
        "quiz2[\"Grade/10.00\"] = quiz2[\"Grade/10.00\"].apply(pd.to_numeric)"
      ],
      "execution_count": null,
      "outputs": []
    },
    {
      "cell_type": "code",
      "metadata": {
        "id": "NurPv03qKxPq",
        "outputId": "f103eca3-257c-43b0-c310-89aeceb08719"
      },
      "source": [
        "#quiz11 = quiz1[quiz1[\"Grade/10.00\"]<5].reset_index()\n",
        "quiz1[quiz1[\"Grade/10.00\"]<5][\"Firstname\"].count()\n",
        "quiz2[quiz2[\"Grade/10.00\"]<5][\"Firstname\"].count()"
      ],
      "execution_count": null,
      "outputs": [
        {
          "output_type": "execute_result",
          "data": {
            "text/plain": [
              "93"
            ]
          },
          "metadata": {
            "tags": []
          },
          "execution_count": 11
        }
      ]
    },
    {
      "cell_type": "code",
      "metadata": {
        "id": "4WaLAaLvKxPq",
        "outputId": "6f001c9f-d075-4424-8a4e-3cf7ca3def32"
      },
      "source": [
        "quiz1.count()"
      ],
      "execution_count": null,
      "outputs": [
        {
          "output_type": "execute_result",
          "data": {
            "text/plain": [
              "Surname        660\n",
              "Firstname      659\n",
              "State          659\n",
              "Started on     659\n",
              "Completed      659\n",
              "Time taken     659\n",
              "Grade/10.00    660\n",
              "dtype: int64"
            ]
          },
          "metadata": {
            "tags": []
          },
          "execution_count": 12
        }
      ]
    },
    {
      "cell_type": "code",
      "metadata": {
        "id": "jCwDmx0uKxPr",
        "outputId": "cd026ccb-9c25-4f59-93b6-35de7f350ffe"
      },
      "source": [
        "quiz2.count()"
      ],
      "execution_count": null,
      "outputs": [
        {
          "output_type": "execute_result",
          "data": {
            "text/plain": [
              "Surname        681\n",
              "Firstname      680\n",
              "State          680\n",
              "Started on     680\n",
              "Completed      680\n",
              "Time taken     680\n",
              "Grade/10.00    681\n",
              "dtype: int64"
            ]
          },
          "metadata": {
            "tags": []
          },
          "execution_count": 13
        }
      ]
    },
    {
      "cell_type": "code",
      "metadata": {
        "id": "SylqPU3TKxPr",
        "outputId": "427bbb7b-a8fa-482b-cd40-7b2fd2fca46a"
      },
      "source": [
        "stat_df[\"no of present\"]= [quiz1[\"Firstname\"].count(),quiz2[\"Firstname\"].count()]\n",
        "stat_df[\"lessthan50\"] = [quiz1[quiz1[\"Grade/10.00\"].between(0,4.9,inclusive=True)][\"Firstname\"].count(),\n",
        "                         quiz2[quiz2[\"Grade/10.00\"].between(0,4.9)][\"Firstname\"].count()]\n",
        "stat_df[\"between50and60\"] = [quiz1[quiz1[\"Grade/10.00\"].between(5,5.9,inclusive=True)][\"Firstname\"].count(),\n",
        "                             quiz2[quiz2[\"Grade/10.00\"].between(5,5.9,inclusive=True)][\"Firstname\"].count()]\n",
        "stat_df[\"between60and70\"] = [quiz1[quiz1[\"Grade/10.00\"].between(6,6.9,inclusive=True)][\"Firstname\"].count(),\n",
        "                             quiz2[quiz2[\"Grade/10.00\"].between(6,6.9,inclusive=True)][\"Firstname\"].count()]\n",
        "stat_df[\"between70and80\"] = [quiz1[quiz1[\"Grade/10.00\"].between(7,7.9,inclusive=True)][\"Firstname\"].count(),\n",
        "                             quiz2[quiz2[\"Grade/10.00\"].between(7,7.9,inclusive=True)][\"Firstname\"].count()]\n",
        "stat_df[\"greaterthan80\"] = [quiz1[quiz1[\"Grade/10.00\"].between(8,10,inclusive=True)][\"Firstname\"].count(),\n",
        "                            quiz2[quiz2[\"Grade/10.00\"].between(8,10,inclusive=True)][\"Firstname\"].count()]\n",
        "\n",
        "\n",
        "stat_df"
      ],
      "execution_count": null,
      "outputs": [
        {
          "output_type": "execute_result",
          "data": {
            "text/html": [
              "<div>\n",
              "<style scoped>\n",
              "    .dataframe tbody tr th:only-of-type {\n",
              "        vertical-align: middle;\n",
              "    }\n",
              "\n",
              "    .dataframe tbody tr th {\n",
              "        vertical-align: top;\n",
              "    }\n",
              "\n",
              "    .dataframe thead th {\n",
              "        text-align: right;\n",
              "    }\n",
              "</style>\n",
              "<table border=\"1\" class=\"dataframe\">\n",
              "  <thead>\n",
              "    <tr style=\"text-align: right;\">\n",
              "      <th></th>\n",
              "      <th>no of present</th>\n",
              "      <th>lessthan50</th>\n",
              "      <th>between50and60</th>\n",
              "      <th>between60and70</th>\n",
              "      <th>between70and80</th>\n",
              "      <th>greaterthan80</th>\n",
              "    </tr>\n",
              "  </thead>\n",
              "  <tbody>\n",
              "    <tr>\n",
              "      <th>Quiz_1</th>\n",
              "      <td>659</td>\n",
              "      <td>127</td>\n",
              "      <td>69</td>\n",
              "      <td>57</td>\n",
              "      <td>58</td>\n",
              "      <td>348</td>\n",
              "    </tr>\n",
              "    <tr>\n",
              "      <th>Quiz_2</th>\n",
              "      <td>680</td>\n",
              "      <td>93</td>\n",
              "      <td>40</td>\n",
              "      <td>39</td>\n",
              "      <td>41</td>\n",
              "      <td>467</td>\n",
              "    </tr>\n",
              "  </tbody>\n",
              "</table>\n",
              "</div>"
            ],
            "text/plain": [
              "        no of present  lessthan50  between50and60  between60and70  \\\n",
              "Quiz_1            659         127              69              57   \n",
              "Quiz_2            680          93              40              39   \n",
              "\n",
              "        between70and80  greaterthan80  \n",
              "Quiz_1              58            348  \n",
              "Quiz_2              41            467  "
            ]
          },
          "metadata": {
            "tags": []
          },
          "execution_count": 14
        }
      ]
    },
    {
      "cell_type": "code",
      "metadata": {
        "id": "rBXauN5WKxPs"
      },
      "source": [
        "batch = r'C:\\Users\\saddam\\Desktop\\python homework\\assignment3\\Prob1\\batchwiselist'\n",
        "all_files = glob.glob(batch +\"/*.csv\")\n",
        "all_files[0]\n",
        "file = []\n",
        "for i in all_files:\n",
        "    df = pd.read_csv(i)\n",
        "    file.append(df)"
      ],
      "execution_count": null,
      "outputs": []
    },
    {
      "cell_type": "code",
      "metadata": {
        "id": "KT_LxH_KKxPs",
        "outputId": "73501053-23fc-4c4e-db8b-5c4840022fca"
      },
      "source": [
        "quiz_1 = pd.merge(quiz1,stu_dent,left_on='Firstname',right_on='studentname',how='right')\n",
        "quiz_2 = pd.merge(quiz2,stu_dent,left_on='Firstname',right_on='studentname',how='right')\n",
        "print(quiz_1.shape)\n",
        "quiz_1[\"Grade/10.00\"] = quiz_1[\"Grade/10.00\"].fillna(0)\n",
        "quiz_2[\"Grade/10.00\"] = quiz_2[\"Grade/10.00\"].fillna(0)"
      ],
      "execution_count": null,
      "outputs": [
        {
          "output_type": "stream",
          "text": [
            "(1017, 11)\n"
          ],
          "name": "stdout"
        }
      ]
    },
    {
      "cell_type": "code",
      "metadata": {
        "id": "oJDmFIw_KxPs",
        "outputId": "97a934d4-a163-4687-fa63-7947d7491f25"
      },
      "source": [
        "\n",
        "#quiz-1\n",
        "n = 18\n",
        "b_q1 = []\n",
        "for i in range(n+1):\n",
        "    qz = pd.merge(file[i],quiz_1,left_on='studentName',right_on='studentname',how='left')\n",
        "    b_q1.append(qz)\n",
        "\n",
        "print(b_q1[0].shape)\n",
        "b_q1[0].head(3)\n",
        "\n",
        "#quiz-2\n",
        "b_q2 = []\n",
        "for i in range(n+1):\n",
        "    qz = pd.merge(file[i],quiz_2,left_on='studentName',right_on='studentname',how='left')\n",
        "    b_q2.append(qz)\n",
        "\n",
        "print(b_q2[0].shape)\n",
        "b_q1[0].head(3)"
      ],
      "execution_count": null,
      "outputs": [
        {
          "output_type": "stream",
          "text": [
            "(63, 16)\n",
            "(63, 16)\n"
          ],
          "name": "stdout"
        },
        {
          "output_type": "execute_result",
          "data": {
            "text/html": [
              "<div>\n",
              "<style scoped>\n",
              "    .dataframe tbody tr th:only-of-type {\n",
              "        vertical-align: middle;\n",
              "    }\n",
              "\n",
              "    .dataframe tbody tr th {\n",
              "        vertical-align: top;\n",
              "    }\n",
              "\n",
              "    .dataframe thead th {\n",
              "        text-align: right;\n",
              "    }\n",
              "</style>\n",
              "<table border=\"1\" class=\"dataframe\">\n",
              "  <thead>\n",
              "    <tr style=\"text-align: right;\">\n",
              "      <th></th>\n",
              "      <th>Unnamed: 0</th>\n",
              "      <th>srNo</th>\n",
              "      <th>enrollmentNumber</th>\n",
              "      <th>admissionNumber</th>\n",
              "      <th>studentName</th>\n",
              "      <th>Surname</th>\n",
              "      <th>Firstname</th>\n",
              "      <th>State</th>\n",
              "      <th>Started on</th>\n",
              "      <th>Completed</th>\n",
              "      <th>Time taken</th>\n",
              "      <th>Grade/10.00</th>\n",
              "      <th>enrollmentnumber</th>\n",
              "      <th>admn</th>\n",
              "      <th>studentname</th>\n",
              "      <th>studentEmail</th>\n",
              "    </tr>\n",
              "  </thead>\n",
              "  <tbody>\n",
              "    <tr>\n",
              "      <th>0</th>\n",
              "      <td>0</td>\n",
              "      <td>1</td>\n",
              "      <td>1613101016</td>\n",
              "      <td>16SCSE101757</td>\n",
              "      <td>AAYUSH  TYAGI</td>\n",
              "      <td>16BTCSES1</td>\n",
              "      <td>AAYUSH  TYAGI</td>\n",
              "      <td>Finished</td>\n",
              "      <td>08-02-2019 15:59</td>\n",
              "      <td>08-02-2019 16:06</td>\n",
              "      <td>7 mins 14 secs</td>\n",
              "      <td>5.0</td>\n",
              "      <td>1613101016</td>\n",
              "      <td>16SCSE101757</td>\n",
              "      <td>AAYUSH  TYAGI</td>\n",
              "      <td>NaN</td>\n",
              "    </tr>\n",
              "    <tr>\n",
              "      <th>1</th>\n",
              "      <td>1</td>\n",
              "      <td>2</td>\n",
              "      <td>1613101026</td>\n",
              "      <td>16SCSE101415</td>\n",
              "      <td>ABHISHEK</td>\n",
              "      <td>16BTCSES1</td>\n",
              "      <td>ABHISHEK</td>\n",
              "      <td>Finished</td>\n",
              "      <td>08-02-2019 16:06</td>\n",
              "      <td>08-02-2019 16:22</td>\n",
              "      <td>15 mins 41 secs</td>\n",
              "      <td>7.0</td>\n",
              "      <td>1613101026</td>\n",
              "      <td>16SCSE101415</td>\n",
              "      <td>ABHISHEK</td>\n",
              "      <td>NaN</td>\n",
              "    </tr>\n",
              "    <tr>\n",
              "      <th>2</th>\n",
              "      <td>2</td>\n",
              "      <td>3</td>\n",
              "      <td>1613101051</td>\n",
              "      <td>16SCSE101222</td>\n",
              "      <td>ADITI  SINGH</td>\n",
              "      <td>16BTCSES1</td>\n",
              "      <td>ADITI  SINGH</td>\n",
              "      <td>Finished</td>\n",
              "      <td>08-02-2019 16:21</td>\n",
              "      <td>08-02-2019 16:37</td>\n",
              "      <td>16 mins 52 secs</td>\n",
              "      <td>5.0</td>\n",
              "      <td>1613101051</td>\n",
              "      <td>16SCSE101222</td>\n",
              "      <td>ADITI  SINGH</td>\n",
              "      <td>NaN</td>\n",
              "    </tr>\n",
              "  </tbody>\n",
              "</table>\n",
              "</div>"
            ],
            "text/plain": [
              "   Unnamed: 0  srNo  enrollmentNumber admissionNumber    studentName  \\\n",
              "0           0     1        1613101016    16SCSE101757  AAYUSH  TYAGI   \n",
              "1           1     2        1613101026    16SCSE101415       ABHISHEK   \n",
              "2           2     3        1613101051    16SCSE101222   ADITI  SINGH   \n",
              "\n",
              "     Surname      Firstname     State        Started on         Completed  \\\n",
              "0  16BTCSES1  AAYUSH  TYAGI  Finished  08-02-2019 15:59  08-02-2019 16:06   \n",
              "1  16BTCSES1       ABHISHEK  Finished  08-02-2019 16:06  08-02-2019 16:22   \n",
              "2  16BTCSES1   ADITI  SINGH  Finished  08-02-2019 16:21  08-02-2019 16:37   \n",
              "\n",
              "        Time taken  Grade/10.00  enrollmentnumber          admn  \\\n",
              "0   7 mins 14 secs          5.0        1613101016  16SCSE101757   \n",
              "1  15 mins 41 secs          7.0        1613101026  16SCSE101415   \n",
              "2  16 mins 52 secs          5.0        1613101051  16SCSE101222   \n",
              "\n",
              "     studentname  studentEmail  \n",
              "0  AAYUSH  TYAGI           NaN  \n",
              "1       ABHISHEK           NaN  \n",
              "2   ADITI  SINGH           NaN  "
            ]
          },
          "metadata": {
            "tags": []
          },
          "execution_count": 43
        }
      ]
    },
    {
      "cell_type": "code",
      "metadata": {
        "id": "IysYE7wxKxPt",
        "outputId": "23a6b1b5-7c8e-4495-e062-011de67fe5f9"
      },
      "source": [
        "result1= pd.DataFrame (columns = [\"no of present\", \"lessthan50\", \"between50and60\", \n",
        "                                  \"between60and70\", \"between70and80\", \"greaterthan80\"],index=[\"Quiz_1\",\"Quiz_2\"])\n",
        "result1"
      ],
      "execution_count": null,
      "outputs": [
        {
          "output_type": "execute_result",
          "data": {
            "text/html": [
              "<div>\n",
              "<style scoped>\n",
              "    .dataframe tbody tr th:only-of-type {\n",
              "        vertical-align: middle;\n",
              "    }\n",
              "\n",
              "    .dataframe tbody tr th {\n",
              "        vertical-align: top;\n",
              "    }\n",
              "\n",
              "    .dataframe thead th {\n",
              "        text-align: right;\n",
              "    }\n",
              "</style>\n",
              "<table border=\"1\" class=\"dataframe\">\n",
              "  <thead>\n",
              "    <tr style=\"text-align: right;\">\n",
              "      <th></th>\n",
              "      <th>no of present</th>\n",
              "      <th>lessthan50</th>\n",
              "      <th>between50and60</th>\n",
              "      <th>between60and70</th>\n",
              "      <th>between70and80</th>\n",
              "      <th>greaterthan80</th>\n",
              "    </tr>\n",
              "  </thead>\n",
              "  <tbody>\n",
              "    <tr>\n",
              "      <th>Quiz_1</th>\n",
              "      <td>NaN</td>\n",
              "      <td>NaN</td>\n",
              "      <td>NaN</td>\n",
              "      <td>NaN</td>\n",
              "      <td>NaN</td>\n",
              "      <td>NaN</td>\n",
              "    </tr>\n",
              "    <tr>\n",
              "      <th>Quiz_2</th>\n",
              "      <td>NaN</td>\n",
              "      <td>NaN</td>\n",
              "      <td>NaN</td>\n",
              "      <td>NaN</td>\n",
              "      <td>NaN</td>\n",
              "      <td>NaN</td>\n",
              "    </tr>\n",
              "  </tbody>\n",
              "</table>\n",
              "</div>"
            ],
            "text/plain": [
              "       no of present lessthan50 between50and60 between60and70 between70and80  \\\n",
              "Quiz_1           NaN        NaN            NaN            NaN            NaN   \n",
              "Quiz_2           NaN        NaN            NaN            NaN            NaN   \n",
              "\n",
              "       greaterthan80  \n",
              "Quiz_1           NaN  \n",
              "Quiz_2           NaN  "
            ]
          },
          "metadata": {
            "tags": []
          },
          "execution_count": 22
        }
      ]
    },
    {
      "cell_type": "code",
      "metadata": {
        "id": "jYPsxPeWKxPt",
        "outputId": "82004873-2d25-433f-d116-d41a171ebeb3"
      },
      "source": [
        "\n",
        "result1[\"no of present\"]= [b_q1[0][\"studentName\"].count(),b_q2[0][\"studentName\"].count()]\n",
        "result1[\"lessthan50\"] = [b_q1[0][b_q1[0][\"Grade/10.00\"].between(0,4.9,inclusive=True)][\"studentName\"].count(),\n",
        "                         b_q2[0][b_q2[0][\"Grade/10.00\"].between(0,4.9)][\"studentName\"].count()]\n",
        "result1[\"between50and60\"] = [b_q1[0][b_q1[0][\"Grade/10.00\"].between(5,5.9,inclusive=True)][\"studentName\"].count(),\n",
        "                             b_q2[0][b_q2[0][\"Grade/10.00\"].between(5,5.9,inclusive=True)][\"studentName\"].count()]\n",
        "result1[\"between60and70\"] = [b_q1[0][b_q1[0][\"Grade/10.00\"].between(6,6.9,inclusive=True)][\"studentName\"].count(),\n",
        "                             b_q2[0][b_q2[0][\"Grade/10.00\"].between(6,6.9,inclusive=True)][\"studentName\"].count()]\n",
        "result1[\"between70and80\"] = [b_q1[0][b_q1[0][\"Grade/10.00\"].between(7,7.9,inclusive=True)][\"studentName\"].count(),\n",
        "                             b_q2[0][b_q2[0][\"Grade/10.00\"].between(7,7.9,inclusive=True)][\"studentName\"].count()]\n",
        "result1[\"greaterthan80\"] = [b_q1[0][b_q1[0][\"Grade/10.00\"].between(8,10,inclusive=True)][\"studentName\"].count(),\n",
        "                            b_q2[0][b_q2[0][\"Grade/10.00\"].between(8,10,inclusive=True)][\"studentName\"].count()]\n",
        "\n",
        "result1"
      ],
      "execution_count": null,
      "outputs": [
        {
          "output_type": "execute_result",
          "data": {
            "text/html": [
              "<div>\n",
              "<style scoped>\n",
              "    .dataframe tbody tr th:only-of-type {\n",
              "        vertical-align: middle;\n",
              "    }\n",
              "\n",
              "    .dataframe tbody tr th {\n",
              "        vertical-align: top;\n",
              "    }\n",
              "\n",
              "    .dataframe thead th {\n",
              "        text-align: right;\n",
              "    }\n",
              "</style>\n",
              "<table border=\"1\" class=\"dataframe\">\n",
              "  <thead>\n",
              "    <tr style=\"text-align: right;\">\n",
              "      <th></th>\n",
              "      <th>no of present</th>\n",
              "      <th>lessthan50</th>\n",
              "      <th>between50and60</th>\n",
              "      <th>between60and70</th>\n",
              "      <th>between70and80</th>\n",
              "      <th>greaterthan80</th>\n",
              "    </tr>\n",
              "  </thead>\n",
              "  <tbody>\n",
              "    <tr>\n",
              "      <th>Quiz_1</th>\n",
              "      <td>63</td>\n",
              "      <td>24</td>\n",
              "      <td>10</td>\n",
              "      <td>4</td>\n",
              "      <td>5</td>\n",
              "      <td>20</td>\n",
              "    </tr>\n",
              "    <tr>\n",
              "      <th>Quiz_2</th>\n",
              "      <td>63</td>\n",
              "      <td>25</td>\n",
              "      <td>3</td>\n",
              "      <td>1</td>\n",
              "      <td>0</td>\n",
              "      <td>34</td>\n",
              "    </tr>\n",
              "  </tbody>\n",
              "</table>\n",
              "</div>"
            ],
            "text/plain": [
              "        no of present  lessthan50  between50and60  between60and70  \\\n",
              "Quiz_1             63          24              10               4   \n",
              "Quiz_2             63          25               3               1   \n",
              "\n",
              "        between70and80  greaterthan80  \n",
              "Quiz_1               5             20  \n",
              "Quiz_2               0             34  "
            ]
          },
          "metadata": {
            "tags": []
          },
          "execution_count": 23
        }
      ]
    },
    {
      "cell_type": "code",
      "metadata": {
        "id": "mz0uphh_KxPu",
        "outputId": "fe5111cd-d0d9-41d1-eba4-77b10833241c"
      },
      "source": [
        "rst = []\n",
        "\n",
        "for i in range(n+1):\n",
        "    result= pd.DataFrame (columns = [\"no of present\", \"lessthan50\", \"between50and60\", \n",
        "                                  \"between60and70\", \"between70and80\", \"greaterthan80\"],index=[\"Quiz_1\",\"Quiz_2\"])\n",
        "    result[\"no of present\"]= [b_q1[i][\"studentname\"].count(),b_q2[i][\"studentName\"].count()]\n",
        "    result[\"lessthan50\"] = [b_q1[i][b_q1[i][\"Grade/10.00\"].between(0,4.9,inclusive=True)][\"studentName\"].count(),b_q2[i][b_q2[i][\"Grade/10.00\"].between(0,4.9)][\"studentName\"].count()]\n",
        "    result[\"between50and60\"] = [b_q1[i][b_q1[i][\"Grade/10.00\"].between(5,5.9,inclusive=True)][\"studentName\"].count(),b_q2[i][b_q2[i][\"Grade/10.00\"].between(5,5.9,inclusive=True)][\"studentName\"].count()]\n",
        "    result[\"between60and70\"] = [b_q1[i][b_q1[i][\"Grade/10.00\"].between(6,6.9,inclusive=True)][\"studentName\"].count(),b_q2[i][b_q2[i][\"Grade/10.00\"].between(6,6.9,inclusive=True)][\"studentName\"].count()]\n",
        "    result[\"between70and80\"] = [b_q1[i][b_q1[i][\"Grade/10.00\"].between(7,7.9,inclusive=True)][\"studentName\"].count(),b_q2[i][b_q2[i][\"Grade/10.00\"].between(7,7.9,inclusive=True)][\"studentName\"].count()]\n",
        "    result[\"greaterthan80\"] = [b_q1[i][b_q1[i][\"Grade/10.00\"].between(8,10,inclusive=True)][\"studentName\"].count(),b_q2[i][b_q2[i][\"Grade/10.00\"].between(8,10,inclusive=True)][\"studentName\"].count()]\n",
        "    rst.append(result)\n",
        "    \n",
        "rst[0]"
      ],
      "execution_count": null,
      "outputs": [
        {
          "output_type": "execute_result",
          "data": {
            "text/html": [
              "<div>\n",
              "<style scoped>\n",
              "    .dataframe tbody tr th:only-of-type {\n",
              "        vertical-align: middle;\n",
              "    }\n",
              "\n",
              "    .dataframe tbody tr th {\n",
              "        vertical-align: top;\n",
              "    }\n",
              "\n",
              "    .dataframe thead th {\n",
              "        text-align: right;\n",
              "    }\n",
              "</style>\n",
              "<table border=\"1\" class=\"dataframe\">\n",
              "  <thead>\n",
              "    <tr style=\"text-align: right;\">\n",
              "      <th></th>\n",
              "      <th>no of present</th>\n",
              "      <th>lessthan50</th>\n",
              "      <th>between50and60</th>\n",
              "      <th>between60and70</th>\n",
              "      <th>between70and80</th>\n",
              "      <th>greaterthan80</th>\n",
              "    </tr>\n",
              "  </thead>\n",
              "  <tbody>\n",
              "    <tr>\n",
              "      <th>Quiz_1</th>\n",
              "      <td>63</td>\n",
              "      <td>24</td>\n",
              "      <td>10</td>\n",
              "      <td>4</td>\n",
              "      <td>5</td>\n",
              "      <td>20</td>\n",
              "    </tr>\n",
              "    <tr>\n",
              "      <th>Quiz_2</th>\n",
              "      <td>63</td>\n",
              "      <td>25</td>\n",
              "      <td>3</td>\n",
              "      <td>1</td>\n",
              "      <td>0</td>\n",
              "      <td>34</td>\n",
              "    </tr>\n",
              "  </tbody>\n",
              "</table>\n",
              "</div>"
            ],
            "text/plain": [
              "        no of present  lessthan50  between50and60  between60and70  \\\n",
              "Quiz_1             63          24              10               4   \n",
              "Quiz_2             63          25               3               1   \n",
              "\n",
              "        between70and80  greaterthan80  \n",
              "Quiz_1               5             20  \n",
              "Quiz_2               0             34  "
            ]
          },
          "metadata": {
            "tags": []
          },
          "execution_count": 24
        }
      ]
    },
    {
      "cell_type": "code",
      "metadata": {
        "id": "nfMmRGHjKxPv",
        "outputId": "85475a34-8485-482b-ca88-c85c357627e1"
      },
      "source": [
        "txt= pd.read_csv('C:\\\\Users\\\\saddam\\\\Desktop\\\\python homework\\\\assignment3\\\\Prob1\\\\testcaseStudent.txt',header=None,names=[\"inputs\"])\n",
        "txt"
      ],
      "execution_count": null,
      "outputs": [
        {
          "output_type": "execute_result",
          "data": {
            "text/html": [
              "<div>\n",
              "<style scoped>\n",
              "    .dataframe tbody tr th:only-of-type {\n",
              "        vertical-align: middle;\n",
              "    }\n",
              "\n",
              "    .dataframe tbody tr th {\n",
              "        vertical-align: top;\n",
              "    }\n",
              "\n",
              "    .dataframe thead th {\n",
              "        text-align: right;\n",
              "    }\n",
              "</style>\n",
              "<table border=\"1\" class=\"dataframe\">\n",
              "  <thead>\n",
              "    <tr style=\"text-align: right;\">\n",
              "      <th></th>\n",
              "      <th>inputs</th>\n",
              "    </tr>\n",
              "  </thead>\n",
              "  <tbody>\n",
              "    <tr>\n",
              "      <th>0</th>\n",
              "      <td>2</td>\n",
              "    </tr>\n",
              "    <tr>\n",
              "      <th>1</th>\n",
              "      <td>1.csv</td>\n",
              "    </tr>\n",
              "    <tr>\n",
              "      <th>2</th>\n",
              "      <td>greaterthan80</td>\n",
              "    </tr>\n",
              "    <tr>\n",
              "      <th>3</th>\n",
              "      <td>9.csv</td>\n",
              "    </tr>\n",
              "    <tr>\n",
              "      <th>4</th>\n",
              "      <td>lessthan50</td>\n",
              "    </tr>\n",
              "  </tbody>\n",
              "</table>\n",
              "</div>"
            ],
            "text/plain": [
              "          inputs\n",
              "0              2\n",
              "1          1.csv\n",
              "2  greaterthan80\n",
              "3          9.csv\n",
              "4     lessthan50"
            ]
          },
          "metadata": {
            "tags": []
          },
          "execution_count": 36
        }
      ]
    },
    {
      "cell_type": "code",
      "metadata": {
        "id": "5zX1T8_tKxPw",
        "outputId": "e76375b9-b460-493c-dde5-ff9ba6232828"
      },
      "source": [
        "tst_cs = int(txt.iloc[0,0])\n",
        "ind = []\n",
        "for i in range(tst_cs*2+1):\n",
        "    ind.append(i)\n",
        "    \n",
        "ind"
      ],
      "execution_count": null,
      "outputs": [
        {
          "output_type": "execute_result",
          "data": {
            "text/plain": [
              "[0, 1, 2, 3, 4]"
            ]
          },
          "metadata": {
            "tags": []
          },
          "execution_count": 37
        }
      ]
    },
    {
      "cell_type": "code",
      "metadata": {
        "id": "PwUw0tGuKxPw",
        "outputId": "7f128c0d-f749-49ff-ab5a-3cb30dcb5cfc"
      },
      "source": [
        "file_name = ind[1::2]\n",
        "column = ind[2::2]\n",
        "print(file_name)\n",
        "print(column)"
      ],
      "execution_count": null,
      "outputs": [
        {
          "output_type": "stream",
          "text": [
            "[1, 3]\n",
            "[2, 4]\n"
          ],
          "name": "stdout"
        }
      ]
    },
    {
      "cell_type": "code",
      "metadata": {
        "id": "O8GDiY3cKxPx",
        "outputId": "7cd736a7-0269-4f95-bdfb-bf42594133bf"
      },
      "source": [
        "v = []\n",
        "for i in file_name:\n",
        "    x = txt.iloc[i,0]\n",
        "    y = int(x[0])\n",
        "    v.append(y)\n",
        "#sub -1 to match index\n",
        "a = [i - 1 for i in v]\n",
        "\n",
        "c = []\n",
        "for i in column:\n",
        "    x = txt.iloc[i,0]\n",
        "    c.append(x)\n",
        "\n",
        "print(v)\n",
        "print(c)\n",
        "v"
      ],
      "execution_count": null,
      "outputs": [
        {
          "output_type": "stream",
          "text": [
            "[1, 9]\n",
            "['greaterthan80', 'lessthan50']\n"
          ],
          "name": "stdout"
        },
        {
          "output_type": "execute_result",
          "data": {
            "text/plain": [
              "[1, 9]"
            ]
          },
          "metadata": {
            "tags": []
          },
          "execution_count": 39
        }
      ]
    },
    {
      "cell_type": "code",
      "metadata": {
        "id": "_PwSKK4kKxPx",
        "outputId": "51147044-6959-41de-98db-ad46aa09d903"
      },
      "source": [
        "for (x,y) in zip(a,c):\n",
        "    print(rst[x][y])\n",
        "    print([x])\n"
      ],
      "execution_count": null,
      "outputs": [
        {
          "output_type": "stream",
          "text": [
            "Quiz_1    20\n",
            "Quiz_2    34\n",
            "Name: greaterthan80, dtype: int64\n",
            "[0]\n",
            "Quiz_1    33\n",
            "Quiz_2    16\n",
            "Name: lessthan50, dtype: int64\n",
            "[8]\n"
          ],
          "name": "stdout"
        }
      ]
    },
    {
      "cell_type": "code",
      "metadata": {
        "id": "DTnO-lA6KxPx",
        "outputId": "614928e8-c286-4cba-bc7a-9a2492454c4b"
      },
      "source": [
        "for (x,y,z) in zip(a,c,v):\n",
        "    out = \"Output{}.txt\".format(z)\n",
        "    f = open(out, \"a\")\n",
        "    print(rst[x][y], file=f)\n",
        "    print(f)"
      ],
      "execution_count": null,
      "outputs": [
        {
          "output_type": "stream",
          "text": [
            "<_io.TextIOWrapper name='Output1.txt' mode='a' encoding='cp1252'>\n",
            "<_io.TextIOWrapper name='Output9.txt' mode='a' encoding='cp1252'>\n"
          ],
          "name": "stdout"
        }
      ]
    },
    {
      "cell_type": "code",
      "metadata": {
        "id": "-LGevA8nKxPy"
      },
      "source": [
        ""
      ],
      "execution_count": null,
      "outputs": []
    },
    {
      "cell_type": "code",
      "metadata": {
        "id": "ki40PZlzKxPy"
      },
      "source": [
        ""
      ],
      "execution_count": null,
      "outputs": []
    },
    {
      "cell_type": "code",
      "metadata": {
        "id": "KwHG4b2ZKxPy"
      },
      "source": [
        ""
      ],
      "execution_count": null,
      "outputs": []
    }
  ]
}